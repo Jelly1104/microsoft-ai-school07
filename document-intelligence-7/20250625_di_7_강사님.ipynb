{
 "cells": [
  {
   "cell_type": "markdown",
   "id": "5613e62c",
   "metadata": {},
   "source": [
    "# Document Intelligence 요청"
   ]
  },
  {
   "cell_type": "code",
   "execution_count": 16,
   "id": "7da7eec1f51009a0",
   "metadata": {},
   "outputs": [
    {
     "name": "stdout",
     "output_type": "stream",
     "text": [
      "<Response [202]>\n",
      "https://fimtrus-document-intelligence2.cognitiveservices.azure.com/documentintelligence/documentModels/prebuilt-read/analyzeResults/631a374f-e75c-4083-b8a1-50282b123514?api-version=2024-11-30\n"
     ]
    }
   ],
   "source": [
    "import requests\n",
    "\n",
    "endpoint = \"https://fimtrus-document-intelligence2.cognitiveservices.azure.com/documentintelligence/documentModels/prebuilt-read:analyze?_overload=analyzeDocument&api-version=2024-11-30\"\n",
    "\n",
    "headers = {\n",
    "    \"Ocp-Apim-Subscription-Key\": \"1WBG3li4tMyQRvo2cQOy0bPHkkqXMBMKwDJeNB1ZKTkUSchWSYOsJQQJ99BFACYeBjFXJ3w3AAALACOGO2DP\"\n",
    "}\n",
    "\n",
    "body = {\n",
    "    \"urlSource\": \"https://i.ytimg.com/vi/xYtjQEpQX1w/hqdefault.jpg\"\n",
    "}\n",
    "\n",
    "response = requests.post(endpoint, headers=headers, json=body)\n",
    "url = response.headers.get('Operation-Location')\n",
    "\n",
    "print(response)\n",
    "print(url)\n",
    "# Method POST."
   ]
  },
  {
   "cell_type": "markdown",
   "id": "2d9e9902",
   "metadata": {},
   "source": [
    "### 요청 확인"
   ]
  },
  {
   "cell_type": "code",
   "execution_count": null,
   "id": "c2c4cb25",
   "metadata": {},
   "outputs": [
    {
     "data": {
      "application/json": {
       "analyzeResult": {
        "apiVersion": "2024-11-30",
        "content": "지금뉴스\nKBS NEWS\n\"주4.5일제 어떻게 생각?\" \"일단 방향은 .. \" 입 열더니",
        "contentFormat": "text",
        "modelId": "prebuilt-read",
        "pages": [
         {
          "angle": -0.1476999968290329,
          "height": 360,
          "lines": [
           {
            "content": "지금뉴스",
            "polygon": [
             34,
             71,
             115,
             72,
             114,
             95,
             34,
             94
            ],
            "spans": [
             {
              "length": 4,
              "offset": 0
             }
            ]
           },
           {
            "content": "KBS",
            "polygon": [
             405,
             66,
             457,
             65,
             457,
             86,
             404,
             86
            ],
            "spans": [
             {
              "length": 3,
              "offset": 5
             }
            ]
           },
           {
            "content": "NEWS",
            "polygon": [
             405,
             88,
             458,
             88,
             458,
             103,
             405,
             104
            ],
            "spans": [
             {
              "length": 4,
              "offset": 9
             }
            ]
           },
           {
            "content": "\"주4.5일제 어떻게 생각?\"",
            "polygon": [
             19,
             202,
             407,
             201,
             407,
             245,
             19,
             246
            ],
            "spans": [
             {
              "length": 16,
              "offset": 14
             }
            ]
           },
           {
            "content": "\"일단 방향은 .. \" 입 열더니",
            "polygon": [
             20,
             251,
             398,
             251,
             398,
             297,
             20,
             297
            ],
            "spans": [
             {
              "length": 18,
              "offset": 31
             }
            ]
           }
          ],
          "pageNumber": 1,
          "spans": [
           {
            "length": 49,
            "offset": 0
           }
          ],
          "unit": "pixel",
          "width": 480,
          "words": [
           {
            "confidence": 0.994,
            "content": "지",
            "polygon": [
             34,
             71,
             50,
             72,
             50,
             95,
             34,
             95
            ],
            "span": {
             "length": 1,
             "offset": 0
            }
           },
           {
            "confidence": 0.996,
            "content": "금",
            "polygon": [
             53,
             72,
             69,
             72,
             68,
             95,
             53,
             95
            ],
            "span": {
             "length": 1,
             "offset": 1
            }
           },
           {
            "confidence": 0.996,
            "content": "뉴",
            "polygon": [
             75,
             72,
             90,
             72,
             90,
             96,
             75,
             96
            ],
            "span": {
             "length": 1,
             "offset": 2
            }
           },
           {
            "confidence": 0.996,
            "content": "스",
            "polygon": [
             97,
             72,
             116,
             72,
             116,
             96,
             96,
             96
            ],
            "span": {
             "length": 1,
             "offset": 3
            }
           },
           {
            "confidence": 0.995,
            "content": "KBS",
            "polygon": [
             404,
             65,
             457,
             65,
             457,
             85,
             404,
             86
            ],
            "span": {
             "length": 3,
             "offset": 5
            }
           },
           {
            "confidence": 0.992,
            "content": "NEWS",
            "polygon": [
             406,
             89,
             459,
             88,
             459,
             103,
             405,
             104
            ],
            "span": {
             "length": 4,
             "offset": 9
            }
           },
           {
            "confidence": 0.974,
            "content": "\"",
            "polygon": [
             19,
             203,
             43,
             203,
             44,
             246,
             20,
             246
            ],
            "span": {
             "length": 1,
             "offset": 14
            }
           },
           {
            "confidence": 0.995,
            "content": "주",
            "polygon": [
             44,
             203,
             66,
             203,
             67,
             246,
             44,
             246
            ],
            "span": {
             "length": 1,
             "offset": 15
            }
           },
           {
            "confidence": 0.991,
            "content": "4.5",
            "polygon": [
             67,
             203,
             130,
             203,
             131,
             246,
             68,
             246
            ],
            "span": {
             "length": 3,
             "offset": 16
            }
           },
           {
            "confidence": 0.996,
            "content": "일",
            "polygon": [
             131,
             203,
             153,
             202,
             154,
             246,
             131,
             246
            ],
            "span": {
             "length": 1,
             "offset": 19
            }
           },
           {
            "confidence": 0.993,
            "content": "제",
            "polygon": [
             154,
             202,
             188,
             202,
             189,
             246,
             155,
             246
            ],
            "span": {
             "length": 1,
             "offset": 20
            }
           },
           {
            "confidence": 0.989,
            "content": "어",
            "polygon": [
             195,
             202,
             223,
             202,
             224,
             246,
             195,
             246
            ],
            "span": {
             "length": 1,
             "offset": 22
            }
           },
           {
            "confidence": 0.99,
            "content": "떻",
            "polygon": [
             235,
             202,
             264,
             202,
             264,
             246,
             236,
             246
            ],
            "span": {
             "length": 1,
             "offset": 23
            }
           },
           {
            "confidence": 0.996,
            "content": "게",
            "polygon": [
             264,
             202,
             297,
             202,
             297,
             246,
             265,
             246
            ],
            "span": {
             "length": 1,
             "offset": 24
            }
           },
           {
            "confidence": 0.993,
            "content": "생",
            "polygon": [
             307,
             202,
             339,
             202,
             340,
             246,
             308,
             246
            ],
            "span": {
             "length": 1,
             "offset": 26
            }
           },
           {
            "confidence": 0.996,
            "content": "각",
            "polygon": [
             340,
             202,
             368,
             202,
             369,
             246,
             340,
             246
            ],
            "span": {
             "length": 1,
             "offset": 27
            }
           },
           {
            "confidence": 0.969,
            "content": "?\"",
            "polygon": [
             369,
             202,
             408,
             202,
             408,
             246,
             369,
             246
            ],
            "span": {
             "length": 2,
             "offset": 28
            }
           },
           {
            "confidence": 0.985,
            "content": "\"",
            "polygon": [
             21,
             253,
             40,
             252,
             39,
             298,
             20,
             298
            ],
            "span": {
             "length": 1,
             "offset": 31
            }
           },
           {
            "confidence": 0.996,
            "content": "일",
            "polygon": [
             40,
             252,
             69,
             252,
             69,
             298,
             40,
             298
            ],
            "span": {
             "length": 1,
             "offset": 32
            }
           },
           {
            "confidence": 0.99,
            "content": "단",
            "polygon": [
             70,
             252,
             105,
             252,
             105,
             298,
             70,
             298
            ],
            "span": {
             "length": 1,
             "offset": 33
            }
           },
           {
            "confidence": 0.994,
            "content": "방",
            "polygon": [
             115,
             252,
             147,
             252,
             147,
             298,
             114,
             298
            ],
            "span": {
             "length": 1,
             "offset": 35
            }
           },
           {
            "confidence": 0.996,
            "content": "향",
            "polygon": [
             148,
             252,
             177,
             252,
             176,
             298,
             147,
             298
            ],
            "span": {
             "length": 1,
             "offset": 36
            }
           },
           {
            "confidence": 0.996,
            "content": "은",
            "polygon": [
             177,
             252,
             200,
             252,
             200,
             298,
             177,
             298
            ],
            "span": {
             "length": 1,
             "offset": 37
            }
           },
           {
            "confidence": 0.983,
            "content": "..",
            "polygon": [
             201,
             252,
             224,
             252,
             224,
             298,
             201,
             298
            ],
            "span": {
             "length": 2,
             "offset": 39
            }
           },
           {
            "confidence": 0.996,
            "content": "\"",
            "polygon": [
             225,
             252,
             260,
             252,
             260,
             298,
             225,
             298
            ],
            "span": {
             "length": 1,
             "offset": 42
            }
           },
           {
            "confidence": 0.985,
            "content": "입",
            "polygon": [
             261,
             252,
             289,
             252,
             289,
             298,
             261,
             298
            ],
            "span": {
             "length": 1,
             "offset": 44
            }
           },
           {
            "confidence": 0.996,
            "content": "열",
            "polygon": [
             301,
             252,
             331,
             252,
             332,
             297,
             301,
             298
            ],
            "span": {
             "length": 1,
             "offset": 46
            }
           },
           {
            "confidence": 0.749,
            "content": "더",
            "polygon": [
             332,
             252,
             357,
             253,
             357,
             297,
             333,
             297
            ],
            "span": {
             "length": 1,
             "offset": 47
            }
           },
           {
            "confidence": 0.952,
            "content": "니",
            "polygon": [
             366,
             253,
             399,
             253,
             399,
             297,
             366,
             297
            ],
            "span": {
             "length": 1,
             "offset": 48
            }
           }
          ]
         }
        ],
        "paragraphs": [
         {
          "boundingRegions": [
           {
            "pageNumber": 1,
            "polygon": [
             34,
             71,
             115,
             72,
             115,
             95,
             34,
             94
            ]
           }
          ],
          "content": "지금뉴스",
          "spans": [
           {
            "length": 4,
            "offset": 0
           }
          ]
         },
         {
          "boundingRegions": [
           {
            "pageNumber": 1,
            "polygon": [
             404,
             66,
             458,
             65,
             458,
             103,
             404,
             104
            ]
           }
          ],
          "content": "KBS NEWS",
          "spans": [
           {
            "length": 8,
            "offset": 5
           }
          ]
         },
         {
          "boundingRegions": [
           {
            "pageNumber": 1,
            "polygon": [
             19,
             201,
             407,
             201,
             407,
             297,
             19,
             297
            ]
           }
          ],
          "content": "\"주4.5일제 어떻게 생각?\" \"일단 방향은 .. \" 입 열더니",
          "spans": [
           {
            "length": 35,
            "offset": 14
           }
          ]
         }
        ],
        "stringIndexType": "textElements",
        "styles": []
       },
       "createdDateTime": "2025-06-25T08:29:12Z",
       "lastUpdatedDateTime": "2025-06-25T08:29:14Z",
       "status": "succeeded"
      },
      "text/plain": [
       "<IPython.core.display.JSON object>"
      ]
     },
     "execution_count": 26,
     "metadata": {
      "application/json": {
       "expanded": false,
       "root": "root"
      }
     },
     "output_type": "execute_result"
    }
   ],
   "source": [
    "from IPython.display import display, JSON\n",
    "\n",
    "endpoint2 = url\n",
    "\n",
    "headers2 = {\n",
    "    \"Ocp-Apim-Subscription-Key\": \"1WBG3li4tMyQRvo2cQOy0bPHkkqXMBMKwDJeNB1ZKTkUSchWSYOsJQQJ99BFACYeBjFXJ3w3AAALACOGO2DP\"\n",
    "}\n",
    "\n",
    "body2 = {}\n",
    "\n",
    "response2 = requests.get(endpoint2, headers=headers2, json=body2)\n",
    "response_json = response2.json()\n",
    "\n",
    "# JSON(response_json)\n",
    "print(response_json)"
   ]
  },
  {
   "cell_type": "code",
   "execution_count": null,
   "id": "2765d978",
   "metadata": {},
   "outputs": [],
   "source": []
  }
 ],
 "metadata": {
  "kernelspec": {
   "display_name": "openai",
   "language": "python",
   "name": "python3"
  },
  "language_info": {
   "codemirror_mode": {
    "name": "ipython",
    "version": 3
   },
   "file_extension": ".py",
   "mimetype": "text/x-python",
   "name": "python",
   "nbconvert_exporter": "python",
   "pygments_lexer": "ipython3",
   "version": "3.11.9"
  }
 },
 "nbformat": 4,
 "nbformat_minor": 5
}
