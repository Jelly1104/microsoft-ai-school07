{
 "cells": [
  {
   "cell_type": "code",
   "execution_count": 35,
   "id": "d88ced3b",
   "metadata": {},
   "outputs": [
    {
     "name": "stdout",
     "output_type": "stream",
     "text": [
      "* Running on local URL:  http://127.0.0.1:7873\n",
      "\n",
      "To create a public link, set `share=True` in `launch()`.\n"
     ]
    },
    {
     "data": {
      "text/html": [
       "<div><iframe src=\"http://127.0.0.1:7873/\" width=\"100%\" height=\"500\" allow=\"autoplay; camera; microphone; clipboard-read; clipboard-write;\" frameborder=\"0\" allowfullscreen></iframe></div>"
      ],
      "text/plain": [
       "<IPython.core.display.HTML object>"
      ]
     },
     "metadata": {},
     "output_type": "display_data"
    },
    {
     "data": {
      "text/plain": []
     },
     "execution_count": 35,
     "metadata": {},
     "output_type": "execute_result"
    },
    {
     "name": "stdout",
     "output_type": "stream",
     "text": [
      "https://fimtrus-document-intelligence2.cognitiveservices.azure.com/documentintelligence/documentModels/prebuilt-read/analyzeResults/fe005cd0-c6a9-4ceb-b8a5-7e879a4dc341?api-version=2024-11-30\n"
     ]
    }
   ],
   "source": [
    "import requests\n",
    "import gradio as gr\n",
    "\n",
    "def request_document_intelligence(image_path):\n",
    "    # Azure Document Intelligence API 엔드포인트 및 인증 헤더 설정\n",
    "    endpoint = \"https://fimtrus-document-intelligence2.cognitiveservices.azure.com/documentintelligence/documentModels/prebuilt-read:analyze?_overload=analyzeDocument&api-version=2024-11-30\"\n",
    "\n",
    "    headers = {\n",
    "        \"Ocp-Apim-Subscription-Key\": \"1WBG3li4tMyQRvo2cQOy0bPHkkqXMBMKwDJeNB1ZKTkUSchWSYOsJQQJ99BFACYeBjFXJ3w3AAALACOGO2DP\",\n",
    "        \"Content-Type\": \"image/png\"\n",
    "    }\n",
    "\n",
    "    # 이미지 파일을 바이너리로 읽어서 POST 요청으로 전송\n",
    "    with open(image_path, \"rb\") as image_file:\n",
    "        image_data = image_file.read()\n",
    "    \n",
    "    response = requests.post(endpoint, headers=headers, data=image_data)\n",
    "    \n",
    "    # 정상적으로 요청이 처리되지 않은 경우 에러 출력 후 None 반환\n",
    "    if response.status_code != 202:\n",
    "        print(f\"Error: {response.status_code}\")\n",
    "        print(\"Error: {}\".format(response.status_code))\n",
    "        return None\n",
    "\n",
    "    # 응답 헤더에서 Operation-Location(비동기 결과 조회 URL) 추출\n",
    "    url = response.headers['Operation-Location']\n",
    "    print(url)\n",
    "    \n",
    "    # 결과가 준비될 때까지 반복적으로 상태 확인\n",
    "    while True:    \n",
    "        result_response = requests.get(url, headers=headers)\n",
    "\n",
    "        if result_response.status_code != 200:\n",
    "            print(f\"Error: {result_response.status_code}\")\n",
    "            return None\n",
    "\n",
    "        result_response_json = result_response.json()\n",
    "        current_status = result_response_json.get(\"status\")\n",
    "\n",
    "        # 분석이 아직 진행 중이면 계속 대기\n",
    "        if current_status == \"running\":\n",
    "            print(\"Current status: {}\".format(current_status))\n",
    "            continue\n",
    "        else:\n",
    "            break\n",
    "    \n",
    "    # 분석이 성공적으로 끝난 경우 결과 반환, 아니면 None 반환\n",
    "    if current_status == \"succeeded\":\n",
    "        return result_response_json\n",
    "    else:\n",
    "        return None\n",
    "\n",
    "def random_color():\n",
    "    # 랜덤한 RGB 색상 튜플 반환\n",
    "    import random\n",
    "    return (random.randint(0, 255), random.randint(0, 255), random.randint(0, 255)) \n",
    "\n",
    "def get_font():\n",
    "    # OS별로 적절한 폰트 객체 반환 (한글 지원)\n",
    "    from PIL import ImageFont\n",
    "    import platform\n",
    "    \n",
    "    font_size = 20\n",
    "    \n",
    "    try:\n",
    "        if platform.system() == \"Windows\":\n",
    "            return ImageFont.truetype(\"malgun.ttf\", font_size)\n",
    "        elif platform.system() == \"Darwin\":  # macOS\n",
    "            return ImageFont.truetype(\"AppleGothic.ttf\", font_size)\n",
    "        else:  # Linux      \n",
    "            return ImageFont.load_default(size=font_size)\n",
    "    except IOError:\n",
    "        # 폰트 파일이 없을 경우 기본 폰트 사용\n",
    "        return ImageFont.load_default(size=font_size)\n",
    "\n",
    "def draw_polygon(image_path, response_data):\n",
    "    # 분석 결과의 각 문단(Paragraph)에 대해 폴리곤과 텍스트를 이미지에 그림\n",
    "    from PIL import Image, ImageDraw\n",
    "    \n",
    "    image = Image.open(image_path)\n",
    "    draw = ImageDraw.Draw(image)\n",
    "    \n",
    "    block_list = response_data['analyzeResult']['paragraphs']\n",
    "    \n",
    "    for block in block_list:\n",
    "        line_color = random_color()  # 각 블록마다 랜덤 색상 지정\n",
    "        font = get_font()\n",
    "        # 폴리곤 좌표 추출\n",
    "        polygon = block['boundingRegions'][0]['polygon']\n",
    "        # 텍스트 내용 추출\n",
    "        content = block['content']\n",
    "        # (x, y) 튜플 리스트로 변환\n",
    "        polygon_points = [(polygon[i], polygon[i+1]) for i in range(0, len(polygon), 2)]\n",
    "\n",
    "        # 폴리곤 그리기\n",
    "        draw.polygon(polygon_points, outline=line_color, width=2)\n",
    "        # 폴리곤 시작점 위에 텍스트 표시\n",
    "        draw.text((polygon[0], polygon[1] - 20), content, fill=line_color, font=font)\n",
    "        \n",
    "    return image\n",
    "\n",
    "# Gradio UI 구성\n",
    "with gr.Blocks() as demo:\n",
    "    \n",
    "    def change_image(image_path):\n",
    "        # 이미지가 변경될 때마다 분석 요청 및 결과 이미지 반환\n",
    "        response_data = request_document_intelligence(image_path)\n",
    "        image = draw_polygon(image_path, response_data)\n",
    "        return image\n",
    "    \n",
    "    # 입력 이미지와 출력 이미지를 나란히 배치\n",
    "    with gr.Row():\n",
    "        input_image = gr.Image(label=\"이미지 선택\", type=\"filepath\", width=500)\n",
    "        output_image = gr.Image(label=\"결과 이미지\", type=\"pil\", interactive=False, width=500)\n",
    "    \n",
    "    # 입력 이미지가 변경될 때 change_image 함수 호출\n",
    "    input_image.change(change_image, inputs=[input_image], outputs=[output_image])\n",
    "    \n",
    "demo.launch()\n",
    "\n",
    "# change_image('/Users/fimtrus/Downloads/카드뉴스_한글날_1_1.jpg')"
   ]
  },
  {
   "cell_type": "code",
   "execution_count": 10,
   "id": "3b44a049",
   "metadata": {},
   "outputs": [],
   "source": [
    "import gradio as gr"
   ]
  },
  {
   "cell_type": "code",
   "execution_count": null,
   "id": "b7d4ce0c",
   "metadata": {},
   "outputs": [],
   "source": []
  }
 ],
 "metadata": {
  "kernelspec": {
   "display_name": "openai",
   "language": "python",
   "name": "python3"
  },
  "language_info": {
   "codemirror_mode": {
    "name": "ipython",
    "version": 3
   },
   "file_extension": ".py",
   "mimetype": "text/x-python",
   "name": "python",
   "nbconvert_exporter": "python",
   "pygments_lexer": "ipython3",
   "version": "3.11.9"
  }
 },
 "nbformat": 4,
 "nbformat_minor": 5
}
