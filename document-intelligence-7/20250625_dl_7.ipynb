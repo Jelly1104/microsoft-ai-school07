{
 "cells": [
  {
   "cell_type": "markdown",
   "id": "57b35216",
   "metadata": {},
   "source": [
    "### Data Intelligence 확인"
   ]
  },
  {
   "cell_type": "code",
   "execution_count": 1,
   "id": "2ecf6395",
   "metadata": {},
   "outputs": [
    {
     "name": "stdout",
     "output_type": "stream",
     "text": [
      "<Response [202]>\n",
      "https://7ai053-document-intelligence.cognitiveservices.azure.com/documentintelligence/documentModels/prebuilt-read/analyzeResults/96292ad8-3a56-4af1-abea-39282acd8a0c?api-version=2024-11-30\n"
     ]
    }
   ],
   "source": [
    "import requests\n",
    "\n",
    "endpoint=\"https://7ai053-document-intelligence.cognitiveservices.azure.com/documentintelligence/documentModels/prebuilt-read:analyze?_overload=analyzeDocument&api-version=2024-11-30\"\n",
    "\n",
    "headers={\"Ocp-Apim-Subscription-Key\":\"BHifxxlNBZpytKj8d6PAC2iYbo7z8DNPGkDGpfzmzhhZtdDrjAxeJQQJ99BFACYeBjFXJ3w3AAALACOGc5EC\"}\n",
    "#API KEY\n",
    "\n",
    "body={\"urlSource\":\"https://cdn.mos.cms.futurecdn.net/FagmdmpjiAzdvTsjLajBH3.png\"}\n",
    "\n",
    "#Method POST\n",
    "response = requests.post(endpoint, headers=headers, json=body)\n",
    "url=response.headers.get('Operation-Location')\n",
    "print(response)\n",
    "print(url)"
   ]
  },
  {
   "cell_type": "code",
   "execution_count": null,
   "id": "a65f9380",
   "metadata": {},
   "outputs": [],
   "source": []
  },
  {
   "cell_type": "markdown",
   "id": "eb78ceaf",
   "metadata": {},
   "source": [
    "### 요청 확인"
   ]
  },
  {
   "cell_type": "code",
   "execution_count": null,
   "id": "018c6d3f",
   "metadata": {},
   "outputs": [],
   "source": [
    "from IPython.display import display, JSON\n",
    "\n",
    "endpoint2=url\n",
    "headers2={\"Ocp-Apim-Subscription-Key\":\"BHifxxlNBZpytKj8d6PAC2iYbo7z8DNPGkDGpfzmzhhZtdDrjAxeJQQJ99BFACYeBjFXJ3w3AAALACOGc5EC\"}\n",
    "body2={}\n",
    "\n",
    "response2=requests.get(endpoint2, headers=headers2, json=body2)\n",
    "#print(response)\n",
    "response_json=response2.json()\n",
    "#JSON(response_json)\n",
    "print(response_json)\n"
   ]
  },
  {
   "cell_type": "code",
   "execution_count": null,
   "id": "95bf77c2",
   "metadata": {},
   "outputs": [],
   "source": []
  }
 ],
 "metadata": {
  "kernelspec": {
   "display_name": "Python 3",
   "language": "python",
   "name": "python3"
  },
  "language_info": {
   "codemirror_mode": {
    "name": "ipython",
    "version": 3
   },
   "file_extension": ".py",
   "mimetype": "text/x-python",
   "name": "python",
   "nbconvert_exporter": "python",
   "pygments_lexer": "ipython3",
   "version": "3.11.9"
  }
 },
 "nbformat": 4,
 "nbformat_minor": 5
}
